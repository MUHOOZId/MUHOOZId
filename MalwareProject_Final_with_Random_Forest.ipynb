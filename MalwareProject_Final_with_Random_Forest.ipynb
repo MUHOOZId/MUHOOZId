{
  "nbformat": 4,
  "nbformat_minor": 0,
  "metadata": {
    "colab": {
      "provenance": [],
      "gpuType": "T4",
      "authorship_tag": "ABX9TyM1ujJds4NoufGe0iB1twcJ",
      "include_colab_link": true
    },
    "kernelspec": {
      "name": "python3",
      "display_name": "Python 3"
    },
    "language_info": {
      "name": "python"
    },
    "accelerator": "GPU"
  },
  "cells": [
    {
      "cell_type": "markdown",
      "metadata": {
        "id": "view-in-github",
        "colab_type": "text"
      },
      "source": [
        "<a href=\"https://colab.research.google.com/github/MUHOOZId/MUHOOZId/blob/main/MalwareProject_Final_with_Random_Forest.ipynb\" target=\"_parent\"><img src=\"https://colab.research.google.com/assets/colab-badge.svg\" alt=\"Open In Colab\"/></a>"
      ]
    },
    {
      "cell_type": "markdown",
      "source": [
        "#Python code to implement a Random Forest model for malware classification using the provided malware_features_datasetq.csv and family_labels.csv datasets. The dataset was made by extracting features using YARA rules. It includes data preprocessing, model training, evaluation, and visualization.\n",
        "\n"
      ],
      "metadata": {
        "id": "TinnJok_xRBX"
      }
    },
    {
      "cell_type": "code",
      "execution_count": 37,
      "metadata": {
        "id": "4GEK-9kiOmeG"
      },
      "outputs": [],
      "source": [
        "import pandas as pd\n",
        "import numpy as np\n",
        "from sklearn.model_selection import train_test_split, GridSearchCV\n",
        "from sklearn.ensemble import RandomForestClassifier\n",
        "from sklearn.preprocessing import LabelEncoder, StandardScaler\n",
        "from sklearn.metrics import accuracy_score, precision_score, recall_score, f1_score, confusion_matrix, classification_report\n",
        "from imblearn.over_sampling import SMOTE\n",
        "import matplotlib.pyplot as plt\n",
        "import seaborn as sns\n",
        "import joblib"
      ]
    },
    {
      "cell_type": "markdown",
      "source": [
        "# Step 1: Load the datasets"
      ],
      "metadata": {
        "id": "z31AHQKxq42-"
      }
    },
    {
      "cell_type": "code",
      "source": [
        "# Step 1: Load the datasets\n",
        "features_df = pd.read_csv('malware_features_datasetq.csv', low_memory=False)\n",
        "labels_df = pd.read_csv('family_labels.csv')\n",
        "\n",
        "print(\"✅ Features dataset loaded successfully.\")\n",
        "print(f\"Features dataset shape: {features_df.shape}\")\n",
        "print(f\"Features dataset sample:\\n{features_df.head()}\")\n",
        "\n",
        "print(\"\\n✅ Labels dataset loaded successfully.\")\n",
        "print(f\"Labels dataset shape: {labels_df.shape}\")\n",
        "print(f\"Labels dataset sample:\\n{labels_df.head()}\")"
      ],
      "metadata": {
        "colab": {
          "base_uri": "https://localhost:8080/"
        },
        "id": "fY-51qAMq875",
        "outputId": "e9e47197-5a77-4336-e3e3-68b78536739b"
      },
      "execution_count": 38,
      "outputs": [
        {
          "output_type": "stream",
          "name": "stdout",
          "text": [
            "✅ Features dataset loaded successfully.\n",
            "Features dataset shape: (129944, 151)\n",
            "Features dataset sample:\n",
            "  source                                           filename  EntryPoint  \\\n",
            "0   out1  000054e0b7668fe5501e3f6e9419e70d90733d5c33b509...       52080   \n",
            "1   out1  0004024788c23eafde6dbcc9da8aaa90c50a8137678ba3...       11439   \n",
            "2   out1  0005a62c933ba8bed50eab0a2b9da0b3d6f395fa6b6713...       11161   \n",
            "3   out1  00093737b0b4bbe0535669f3b04af7c2be754a6e150476...        1696   \n",
            "4   out1  000e6412bebb9b90ee7f463a985a441881953da63c4486...      573028   \n",
            "\n",
            "   FromBegin  FromEnd                                        EntryHash10  \\\n",
            "0      52080  1756319  5c06f50018c1a97a50a682ed5dd36ba71f37379dab4fa6...   \n",
            "1      11439  4535922  165e9d02f19660b445704f253df3801a64cd01237a0ebe...   \n",
            "2      11161   409412  15b2caf2f5f3b6c8ff3a8a9ed5a016496dc4254d6873a1...   \n",
            "3       1696   521969  4456e40f778fd5d2880da208588bacadb0fbb332c06054...   \n",
            "4     573028  2616402  5878d7264c3b9554e8287b229ef7f9b5c09cf49db5abef...   \n",
            "\n",
            "                                         EntryHash20  \\\n",
            "0  9b0d62c0b481c8bb6e2b46b9bd10acddf6be0c9e3586c6...   \n",
            "1  0849a1cb5e6418fe5bb435fc7a5c6de38a974708d4ec0f...   \n",
            "2  62070154a9d4a6c67cb08a996712e80af7d8e2d93eb51a...   \n",
            "3  cd0ff8f8882d09a54063ff75788baf7d06fd27daeb2387...   \n",
            "4  84b379c9964ae76bdadce63cbc464b703d877524827b3b...   \n",
            "\n",
            "                                         EntryHash30  \\\n",
            "0  d255ff0254054ea4022614d17acc5953f9c42867ae0de1...   \n",
            "1  18b153300a238cf3ce4385784c88f2cb1a43ec70b99ab0...   \n",
            "2  641931cb3a373f20edf93a953cfba17b838bbc5d6af6fc...   \n",
            "3  1f866c0234d22b382b940bc4163e50e84436dfc4756578...   \n",
            "4  55d7c5b4fb24154c81d3c5c48c6853b5f1b7b7d1411841...   \n",
            "\n",
            "                                         EntryHash40  Characteristics  ...  \\\n",
            "0  49e68d3f090b3dae5277079576b599510c7afc02fb8221...            271.0  ...   \n",
            "1  3c89d522dadaaade569a6d7fac09978f993f8fe5ecce67...            258.0  ...   \n",
            "2  58a55daf6ba994c5e7df8970c990dd23c6d4b539434cfe...            258.0  ...   \n",
            "3  43a3a37a8006dcfa46f25c6194551ef71f43370c1dce6a...            783.0  ...   \n",
            "4  ebd77ddff33774c52a0e57ec4770686ff583abbe818d58...            546.0  ...   \n",
            "\n",
            "   SectionName_22  SectionVA_22  SectionVSIZE_22  SectionRawSize_22  \\\n",
            "0             NaN           NaN              NaN                NaN   \n",
            "1             NaN           NaN              NaN                NaN   \n",
            "2             NaN           NaN              NaN                NaN   \n",
            "3             NaN           NaN              NaN                NaN   \n",
            "4             NaN           NaN              NaN                NaN   \n",
            "\n",
            "   SectionCharacteristics_22  SectionName_23  SectionVA_23  SectionVSIZE_23  \\\n",
            "0                        NaN             NaN           NaN              NaN   \n",
            "1                        NaN             NaN           NaN              NaN   \n",
            "2                        NaN             NaN           NaN              NaN   \n",
            "3                        NaN             NaN           NaN              NaN   \n",
            "4                        NaN             NaN           NaN              NaN   \n",
            "\n",
            "   SectionRawSize_23  SectionCharacteristics_23  \n",
            "0                NaN                        NaN  \n",
            "1                NaN                        NaN  \n",
            "2                NaN                        NaN  \n",
            "3                NaN                        NaN  \n",
            "4                NaN                        NaN  \n",
            "\n",
            "[5 rows x 151 columns]\n",
            "\n",
            "✅ Labels dataset loaded successfully.\n",
            "Labels dataset shape: (2484, 3)\n",
            "Labels dataset sample:\n",
            "                           filename family_name   source_av\n",
            "0  0000c252e7b4e2a5b0a004b0158d6d94     Kryptik  ESET-NOD32\n",
            "1  000302ca4394c78694447fb6530b5a0f         Spy  ESET-NOD32\n",
            "2  000357eba8e39684f5a5b19f45793417     Kryptik  ESET-NOD32\n",
            "3  000485d70d3c9eeb9972b102cd3e07f5     unknown         NaN\n",
            "4  00054e8d8d8baed7e43cbb65d8eee704     unknown         NaN\n"
          ]
        }
      ]
    },
    {
      "cell_type": "markdown",
      "source": [
        "# Step 2: Preprocess filenames in features_df (remove .txt extension)"
      ],
      "metadata": {
        "id": "S7TOAliyrdhY"
      }
    },
    {
      "cell_type": "code",
      "source": [
        "# Step 2: Preprocess filenames in features_df (remove .txt extension)\n",
        "features_df['filename'] = features_df['filename'].str.replace('.txt', '', regex=False).str.lower().str.strip()\n",
        "labels_df['filename'] = labels_df['filename'].str.lower().str.strip()\n",
        "\n",
        "print(\"\\n🔹 Filename preprocessing complete.\")\n",
        "print(f\"Features dataset filenames sample:\\n{features_df['filename'].head()}\")\n",
        "print(f\"Labels dataset filenames sample:\\n{labels_df['filename'].head()}\")"
      ],
      "metadata": {
        "colab": {
          "base_uri": "https://localhost:8080/"
        },
        "id": "fSZRRYG5riul",
        "outputId": "f1b16c2b-075d-4cc0-e28a-bded56849ec7"
      },
      "execution_count": 39,
      "outputs": [
        {
          "output_type": "stream",
          "name": "stdout",
          "text": [
            "\n",
            "🔹 Filename preprocessing complete.\n",
            "Features dataset filenames sample:\n",
            "0    000054e0b7668fe5501e3f6e9419e70d90733d5c33b509...\n",
            "1    0004024788c23eafde6dbcc9da8aaa90c50a8137678ba3...\n",
            "2    0005a62c933ba8bed50eab0a2b9da0b3d6f395fa6b6713...\n",
            "3    00093737b0b4bbe0535669f3b04af7c2be754a6e150476...\n",
            "4    000e6412bebb9b90ee7f463a985a441881953da63c4486...\n",
            "Name: filename, dtype: object\n",
            "Labels dataset filenames sample:\n",
            "0    0000c252e7b4e2a5b0a004b0158d6d94\n",
            "1    000302ca4394c78694447fb6530b5a0f\n",
            "2    000357eba8e39684f5a5b19f45793417\n",
            "3    000485d70d3c9eeb9972b102cd3e07f5\n",
            "4    00054e8d8d8baed7e43cbb65d8eee704\n",
            "Name: filename, dtype: object\n"
          ]
        }
      ]
    },
    {
      "cell_type": "markdown",
      "source": [
        "# Step 3: Merge datasets"
      ],
      "metadata": {
        "id": "_FDH_iFwrlQr"
      }
    },
    {
      "cell_type": "code",
      "source": [
        "# Step 3: Merge datasets\n",
        "merged_df = pd.merge(features_df, labels_df[['filename', 'family_name']],\n",
        "                     on='filename', how='inner')\n",
        "print(\"Merged Data Shape:\", merged_df.shape)\n",
        "if merged_df.empty:\n",
        "    print(\"Error: Merged DataFrame is empty. Check filename matches.\")\n",
        "    common_filenames = set(features_df['filename']).intersection(set(labels_df['filename']))\n",
        "    print(\"Common filenames:\", common_filenames)\n",
        "    print(\"Number of common filenames:\", len(common_filenames))\n",
        "    raise ValueError(\"No matching filenames found. Verify datasets.\")\n",
        "else:\n",
        "    print(\"Merged Data Sample:\\n\", merged_df.head())"
      ],
      "metadata": {
        "colab": {
          "base_uri": "https://localhost:8080/"
        },
        "id": "4VhU-mdtroHK",
        "outputId": "03ec731e-f804-4570-a25d-31b01775c42d"
      },
      "execution_count": 40,
      "outputs": [
        {
          "output_type": "stream",
          "name": "stdout",
          "text": [
            "Merged Data Shape: (2484, 152)\n",
            "Merged Data Sample:\n",
            "   source                          filename  EntryPoint  FromBegin  FromEnd  \\\n",
            "0   out4  0000c252e7b4e2a5b0a004b0158d6d94       14069      14069   270603   \n",
            "1   out4  000302ca4394c78694447fb6530b5a0f       38430      38430     3042   \n",
            "2   out4  000357eba8e39684f5a5b19f45793417     2582144    2582144  1042904   \n",
            "3   out4  000485d70d3c9eeb9972b102cd3e07f5     2889431    2889431  1902889   \n",
            "4   out4  00054e8d8d8baed7e43cbb65d8eee704      683948     683948   173340   \n",
            "\n",
            "                                         EntryHash10  \\\n",
            "0  8421f91579c4ed48b47308d148cf2e711d49464841cdfc...   \n",
            "1  65c49144b6a3d2ee6fe509adb98f6a62e8107b620fb3b0...   \n",
            "2  ec250cbafbbe963788a85f69c6adb6842da06d29007009...   \n",
            "3  5ab971d2de25d883cbe268296b571912b7de5f60121354...   \n",
            "4  5e69e7215d75e38c723905802947c3c5d21bd4a72e6c51...   \n",
            "\n",
            "                                         EntryHash20  \\\n",
            "0  0f3ab3e6f293f0a71243f99242b6a1059c11a7a4f7918e...   \n",
            "1  869c02d70115474a63ddd5a8544f9949799060c7470153...   \n",
            "2  2767c15be827f5778d23bb737a22cd9f5294048e9308da...   \n",
            "3  fa69d0da0fefc53649fdd8f8b02ba9917ee16cc75246b1...   \n",
            "4  aaaba906de892a02fde2054194b9eb6f6b5e1281055355...   \n",
            "\n",
            "                                         EntryHash30  \\\n",
            "0  75dd803fd00b26916033ee85f6ae6d91d4606ddc3d7411...   \n",
            "1  b4df1c60a2e5b074ad80d79c4eb561b447ec83b6a92444...   \n",
            "2  dfb15588c4e34f5b1257129d5c244061da91c19e2aacf4...   \n",
            "3  2a1e1007edae9c50ecbc116b1b3cc331cf8fae207124df...   \n",
            "4  1c160aaa663ece9fc147ead553e78933d741e1fffa6d02...   \n",
            "\n",
            "                                         EntryHash40  Characteristics  ...  \\\n",
            "0  c0b4a11d0801436e6429a14ca92e57a638d214edd04ce3...            258.0  ...   \n",
            "1  af855fcefa7c791b7077af8862ef54b388850f2a74aa5d...            258.0  ...   \n",
            "2  08785f54c7787e90ee171abf728158ca61aeaee7197f11...            271.0  ...   \n",
            "3  2dd89aa1b96cec10777f3331708727fa6eda860407e19e...            258.0  ...   \n",
            "4  827663735d557e33a0f0bc06d6866605fde6cad179e590...          33166.0  ...   \n",
            "\n",
            "   SectionVA_22  SectionVSIZE_22  SectionRawSize_22  \\\n",
            "0           NaN              NaN                NaN   \n",
            "1           NaN              NaN                NaN   \n",
            "2           NaN              NaN                NaN   \n",
            "3           NaN              NaN                NaN   \n",
            "4           NaN              NaN                NaN   \n",
            "\n",
            "   SectionCharacteristics_22  SectionName_23  SectionVA_23  SectionVSIZE_23  \\\n",
            "0                        NaN             NaN           NaN              NaN   \n",
            "1                        NaN             NaN           NaN              NaN   \n",
            "2                        NaN             NaN           NaN              NaN   \n",
            "3                        NaN             NaN           NaN              NaN   \n",
            "4                        NaN             NaN           NaN              NaN   \n",
            "\n",
            "   SectionRawSize_23  SectionCharacteristics_23  family_name  \n",
            "0                NaN                        NaN      Kryptik  \n",
            "1                NaN                        NaN          Spy  \n",
            "2                NaN                        NaN      Kryptik  \n",
            "3                NaN                        NaN      unknown  \n",
            "4                NaN                        NaN      unknown  \n",
            "\n",
            "[5 rows x 152 columns]\n"
          ]
        }
      ]
    },
    {
      "cell_type": "markdown",
      "source": [
        "# Step 4: Filter out 'unknown' and '2345' family labels"
      ],
      "metadata": {
        "id": "vV4b1XSuruEB"
      }
    },
    {
      "cell_type": "code",
      "source": [
        "# Step 4: Filter out 'unknown' and '2345' family labels\n",
        "merged_df = merged_df[~merged_df['family_name'].isin(['unknown', '2345'])].reset_index(drop=True)\n",
        "print(\"Shape after removing 'unknown' and '2345' labels:\", merged_df.shape)"
      ],
      "metadata": {
        "colab": {
          "base_uri": "https://localhost:8080/"
        },
        "id": "L0LJZUixrvdg",
        "outputId": "14bc8a43-c6c3-40f6-a85b-d4c8c91fb863"
      },
      "execution_count": 41,
      "outputs": [
        {
          "output_type": "stream",
          "name": "stdout",
          "text": [
            "Shape after removing 'unknown' and '2345' labels: (2344, 152)\n"
          ]
        }
      ]
    },
    {
      "cell_type": "markdown",
      "source": [
        "# Step 5: Define categorical and numerical columns"
      ],
      "metadata": {
        "id": "qo7YmuNSrzqn"
      }
    },
    {
      "cell_type": "code",
      "source": [
        "# Step 5: Define categorical and numerical columns\n",
        "categorical_cols = ['SectionName_0', 'SectionName_1', 'SectionName_2',\n",
        "                    'SectionName_3', 'SectionName_4', 'EntryHash10', 'Imphash']\n",
        "numerical_cols = [col for col in merged_df.columns if col not in categorical_cols +\n",
        "                  ['filename', 'family_name']]\n",
        "\n",
        "# Step 6: Handle missing values and mixed types\n",
        "# Categorical: Fill NaN with 'Unknown' and ensure string type\n",
        "for col in categorical_cols:\n",
        "    merged_df[col] = merged_df[col].astype(str).fillna('Unknown')\n",
        "\n",
        "# Numerical: Convert to numeric, fill NaN with median\n",
        "for col in numerical_cols:\n",
        "    merged_df[col] = pd.to_numeric(merged_df[col], errors='coerce')\n",
        "    merged_df[col] = merged_df[col].fillna(merged_df[col].median())"
      ],
      "metadata": {
        "id": "COtTCbp1r1XR"
      },
      "execution_count": 42,
      "outputs": []
    },
    {
      "cell_type": "markdown",
      "source": [
        "# Step 7: Drop columns with zero variance or high NaN values (>80%)"
      ],
      "metadata": {
        "id": "_QKfFoKMsFfm"
      }
    },
    {
      "cell_type": "code",
      "source": [
        "# Step 7: Drop columns with zero variance or high NaN values (>80%)\n",
        "zero_variance_cols = [col for col in numerical_cols if merged_df[col].var() == 0]\n",
        "high_nan_cols = [col for col in numerical_cols if merged_df[col].isna().mean() > 0.8]\n",
        "cols_to_drop = list(set(zero_variance_cols + high_nan_cols))\n",
        "if cols_to_drop:\n",
        "    print(\"Dropping columns:\", cols_to_drop)\n",
        "    merged_df = merged_df.drop(columns=cols_to_drop)\n",
        "    numerical_cols = [col for col in numerical_cols if col not in cols_to_drop]\n",
        "\n",
        "# Verify no remaining NaN values\n",
        "print(\"Missing Values after preprocessing:\\n\", merged_df.isna().sum())"
      ],
      "metadata": {
        "colab": {
          "base_uri": "https://localhost:8080/"
        },
        "id": "sF7VaO25sL3s",
        "outputId": "fe61b2ac-1459-4066-e144-e728fcf1bed4"
      },
      "execution_count": 43,
      "outputs": [
        {
          "output_type": "stream",
          "name": "stdout",
          "text": [
            "Dropping columns: ['SectionName_17', 'SectionName_5', 'SectionRawSize_20', 'SectionRawSize_18', 'SectionName_18', 'SectionVA_14', 'SectionVA_19', 'SectionName_22', 'SectionCharacteristics_13', 'EntryHash40', 'SectionVA_20', 'SectionName_14', 'SectionVA_10', 'SectionCharacteristics_12', 'source', 'SectionCharacteristics_15', 'SectionVSIZE_14', 'SectionVSIZE_16', 'SectionVSIZE_20', 'SectionName_21', 'SectionRawSize_22', 'SectionRawSize_14', 'SectionCharacteristics_14', 'SectionRawSize_17', 'SectionName_23', 'SectionVSIZE_11', 'SectionName_13', 'SectionVSIZE_21', 'SectionName_19', 'SectionRawSize_23', 'SectionCharacteristics_11', 'SectionName_16', 'SectionVSIZE_12', 'SectionVSIZE_17', 'EntryHash30', 'SectionVSIZE_22', 'SectionName_9', 'SectionName_6', 'SectionVSIZE_13', 'SectionRawSize_13', 'SectionCharacteristics_20', 'SectionName_7', 'SectionCharacteristics_10', 'SectionRawSize_21', 'SectionRawSize_16', 'SectionRawSize_11', 'SectionVA_23', 'SectionName_11', 'SectionVA_13', 'MimeType', 'SectionVA_15', 'SectionName_20', 'SectionCharacteristics_21', 'SectionCharacteristics_18', 'SectionCharacteristics_17', 'SectionName_12', 'SectionVSIZE_23', 'SectionVA_22', 'SectionVA_12', 'SectionVA_21', 'SectionVSIZE_18', 'SectionCharacteristics_19', 'SectionVA_16', 'SectionRawSize_15', 'SectionCharacteristics_16', 'SignatureSubject', 'SignatureIssuer', 'SectionVSIZE_10', 'SectionCharacteristics_22', 'SignatureAlgorithm', 'SectionVSIZE_19', 'SectionVA_18', 'SectionRawSize_10', 'SectionName_15', 'SectionName_10', 'SectionVSIZE_15', 'SectionCharacteristics_23', 'SectionVA_11', 'SectionRawSize_12', 'SectionName_8', 'MagicType', 'EntryHash20', 'SectionVA_17', 'SectionRawSize_19']\n",
            "Missing Values after preprocessing:\n",
            " filename                    0\n",
            "EntryPoint                  0\n",
            "FromBegin                   0\n",
            "FromEnd                     0\n",
            "EntryHash10                 0\n",
            "                           ..\n",
            "SectionVA_9                 0\n",
            "SectionVSIZE_9              0\n",
            "SectionRawSize_9            0\n",
            "SectionCharacteristics_9    0\n",
            "family_name                 0\n",
            "Length: 68, dtype: int64\n"
          ]
        }
      ]
    },
    {
      "cell_type": "markdown",
      "source": [
        "# Step 8: Encode categorical features"
      ],
      "metadata": {
        "id": "gV6JcpNAsNp0"
      }
    },
    {
      "cell_type": "code",
      "source": [
        "# Step 8: Encode categorical features\n",
        "label_encoders = {}\n",
        "for col in categorical_cols:\n",
        "    le = LabelEncoder()\n",
        "    merged_df[col] = le.fit_transform(merged_df[col])\n",
        "    label_encoders[col] = le\n",
        "\n",
        "# Step 9: Normalize numerical features\n",
        "scaler = StandardScaler()\n",
        "merged_df[numerical_cols] = scaler.fit_transform(merged_df[numerical_cols])"
      ],
      "metadata": {
        "id": "-Dz56jR6sRJt"
      },
      "execution_count": 44,
      "outputs": []
    },
    {
      "cell_type": "markdown",
      "source": [
        "# Step 10: Group similar families to reduce the number of classes"
      ],
      "metadata": {
        "id": "TniU8DmxsShj"
      }
    },
    {
      "cell_type": "code",
      "source": [
        "\n",
        "# Step 10: Group similar families to reduce the number of classes\n",
        "family_mapping = {\n",
        "    'Kryptik': 'Kryptik',\n",
        "    'Kryptik_AGen': 'Kryptik',\n",
        "    'GenKryptik': 'Kryptik',\n",
        "\n",
        "    'Agent': 'Agent',\n",
        "    'Agent_AGen': 'Agent',\n",
        "\n",
        "    'Trojan': 'Trojan',\n",
        "    'Trojan-Dropper': 'Trojan',\n",
        "    'TrojanDropper': 'Trojan',\n",
        "    'TrojanDownloader': 'Trojan',\n",
        "    'TrojanClicker': 'Trojan',\n",
        "    'TrojanProxy': 'Trojan',\n",
        "\n",
        "    'Qbot': 'Qbot',\n",
        "    'Qbot_AGen': 'Qbot',\n",
        "\n",
        "    'Spy': 'Spy',\n",
        "    'SpyVoltar': 'Spy',\n",
        "    'Spybot': 'Spy',\n",
        "\n",
        "    'VB': 'VB',\n",
        "    'VBClone': 'VB',\n",
        "    'VBObfus': 'VB',\n",
        "\n",
        "    'AutoRun': 'AutoRun',\n",
        "    'Autorun': 'AutoRun',\n",
        "\n",
        "    'Exploit': 'Exploit',\n",
        "    'Exploit-DcomRpc': 'Exploit',\n",
        "\n",
        "    'PWSZbot-FAPM': 'PWSZbot',\n",
        "    'RemAdm-RemoteAdmin': 'RemAdm',\n",
        "    'BackDoor-FCZS': 'BackDoor',\n",
        "    'HTool-TermServ': 'HTool'\n",
        "}\n",
        "merged_df['family_name'] = merged_df['family_name'].replace(family_mapping)"
      ],
      "metadata": {
        "id": "VjrlaE3nsX49"
      },
      "execution_count": 45,
      "outputs": []
    },
    {
      "cell_type": "markdown",
      "source": [
        "# Step 11: Filter out classes with fewer than 2 samples"
      ],
      "metadata": {
        "id": "_6ITT_UmsbSy"
      }
    },
    {
      "cell_type": "code",
      "source": [
        "# Step 11: Filter out classes with fewer than 2 samples\n",
        "le_family_original = LabelEncoder()\n",
        "merged_df['family_name'] = le_family_original.fit_transform(merged_df['family_name'])\n",
        "class_counts = pd.Series(le_family_original.inverse_transform(merged_df['family_name'])).value_counts()\n",
        "valid_classes = class_counts[class_counts >= 2].index\n",
        "mask = pd.Series(le_family_original.inverse_transform(merged_df['family_name']), index=merged_df.index).isin(valid_classes)\n",
        "merged_df = merged_df[mask].reset_index(drop=True)\n",
        "print(\"Classes after filtering (min 2 samples):\", le_family_original.classes_)\n",
        "print(\"Class Distribution after filtering:\\n\", pd.Series(le_family_original.inverse_transform(merged_df['family_name'])).value_counts())\n"
      ],
      "metadata": {
        "colab": {
          "base_uri": "https://localhost:8080/"
        },
        "id": "bp2G_-vGseuJ",
        "outputId": "ab5ee298-ea8e-4230-9e8e-025990d5d057"
      },
      "execution_count": 46,
      "outputs": [
        {
          "output_type": "stream",
          "name": "stdout",
          "text": [
            "Classes after filtering (min 2 samples): ['AHK' 'Adaware' 'Adware' 'Agent' 'Ainslot' 'Allaple' 'AlteredSoftware'\n",
            " 'Alyak' 'Amonetize' 'Application' 'Artemis' 'Asbit' 'Asterope' 'AsyncRAT'\n",
            " 'AutoRun' 'Autoit' 'BHO' 'BackDoor' 'Baidence' 'Bandok' 'Bayrob' 'Bedep'\n",
            " 'Bflient' 'Bifrose' 'Bladabindi' 'Boaxxe' 'Brontok' 'BrowsingHistoryView'\n",
            " 'Bumblebee_AGen' 'Bundpil' 'ClipBanker' 'CobaltStrike' 'CoinMiner'\n",
            " 'Conduit' 'Cosmu' 'Cryptociselo' 'DealPly' 'Delf' 'Dialer' 'Disabler'\n",
            " 'Disdroth' 'DivX' 'Dlhelper' 'DomaIQ' 'Dorkbot' 'DownloadAdmin'\n",
            " 'DownloadAssistant' 'DownloadSponsor' 'Dridex' 'Eggnog' 'Enchanim'\n",
            " 'Expiro' 'Exploit' 'ExtenBro' 'FakeDoc' 'FakeTool' 'Farfli' 'Fignya'\n",
            " 'Filecoder' 'Filesponger' 'Flooder' 'Floxif' 'FlyStudio' 'Formbook'\n",
            " 'Fusing' 'Futu' 'Fynloski' 'GameHack' 'Goblin' 'HTool' 'HackKMS'\n",
            " 'HackTool' 'HideBaid' 'Hupigon' 'IStartSurf' 'Immirat' 'Injector'\n",
            " 'InstallCore' 'InstallIQ' 'InstallMonetizer' 'InstallMonstr' 'Jeefo'\n",
            " 'Kasidet' 'Kelihos' 'KeyLogger' 'Keygen' 'Kovter' 'Kryptik' 'Lebreat'\n",
            " 'Lethic' 'LockScreen' 'LunaStorm' 'Mabezat' 'Memery' 'MewsSpy' 'Mira'\n",
            " 'MoSucker' 'Msil' 'MyPCBackup' 'Mydoom' 'NanoCore' 'Naprat' 'Neshta'\n",
            " 'Neurevt' 'Nevereg' 'Nsis' 'OfferCore' 'OpenCandy' 'PSW' 'PWSZbot'\n",
            " 'Packed' 'Padodor' 'Parite' 'Patched' 'Picsys' 'Pidgeon' 'Plugax'\n",
            " 'PowerSpider' 'Pronny' 'Qadars' 'Qbot' 'Ramnit' 'RanumBot' 'RemAdm'\n",
            " 'Remtasu' 'Resur' 'Rootkit' 'Rovnix' 'Rozena' 'Ruskyper' 'SBWatchman'\n",
            " 'Sality' 'Sednit' 'ServStart' 'Small' 'Socks' 'Solimba' 'Soltern'\n",
            " 'Spatet' 'SpeedBit' 'Spy' 'StartPage' 'Surveyer' 'Swisyn' 'Techsnab'\n",
            " 'Tinba' 'Tiny' 'Tofsee' 'Toolbar' 'TrickBot' 'Trojan' 'Trustezeb'\n",
            " 'Urelas' 'UwS' 'VB' 'Virlock' 'Virus' 'Virut' 'Webshell' 'WinWrapper'\n",
            " 'Worm' 'YTDDownloader' 'Zlader']\n",
            "Class Distribution after filtering:\n",
            " Kryptik         381\n",
            "Adware          222\n",
            "Trojan          194\n",
            "Agent           168\n",
            "Injector        148\n",
            "               ... \n",
            "Autoit            2\n",
            "HackKMS           2\n",
            "Mydoom            2\n",
            "Conduit           2\n",
            "CobaltStrike      2\n",
            "Name: count, Length: 96, dtype: int64\n"
          ]
        }
      ]
    },
    {
      "cell_type": "markdown",
      "source": [
        "# Step 12: Focus on top 10 classes"
      ],
      "metadata": {
        "id": "DDJru58kshgd"
      }
    },
    {
      "cell_type": "code",
      "source": [
        "# Step 12: Focus on top 10 classes\n",
        "top_classes = pd.Series(le_family_original.inverse_transform(merged_df['family_name'])).value_counts().head(10).index\n",
        "mask = pd.Series(le_family_original.inverse_transform(merged_df['family_name']), index=merged_df.index).isin(top_classes)\n",
        "merged_df = merged_df[mask].reset_index(drop=True)\n",
        "# Re-encode the target for the top 10 classes\n",
        "le_family = LabelEncoder()\n",
        "merged_df['family_name'] = le_family.fit_transform(merged_df['family_name'])\n",
        "print(\"Top 10 Classes (encoded):\", le_family.classes_)\n",
        "print(\"Class Distribution (Top 10):\\n\", pd.Series(le_family.inverse_transform(merged_df['family_name'])).value_counts())\n"
      ],
      "metadata": {
        "colab": {
          "base_uri": "https://localhost:8080/"
        },
        "id": "VOfgbwwGskKs",
        "outputId": "fdae80a7-8f71-46ef-fe15-6f6c223e5b75"
      },
      "execution_count": 47,
      "outputs": [
        {
          "output_type": "stream",
          "name": "stdout",
          "text": [
            "Top 10 Classes (encoded): [  2   3  10  14  32  76  87 140 150 154]\n",
            "Class Distribution (Top 10):\n",
            " 87     381\n",
            "2      222\n",
            "150    194\n",
            "3      168\n",
            "76     148\n",
            "32      91\n",
            "140     84\n",
            "10      71\n",
            "154     52\n",
            "14      52\n",
            "Name: count, dtype: int64\n"
          ]
        }
      ]
    },
    {
      "cell_type": "markdown",
      "source": [
        "# Step 13: Select features and target"
      ],
      "metadata": {
        "id": "iHv0UUS-sl-6"
      }
    },
    {
      "cell_type": "code",
      "source": [
        "# Step 13: Select features and target\n",
        "X = merged_df.drop(['filename', 'family_name'], axis=1)\n",
        "y = merged_df['family_name']\n",
        "print(\"Features Shape:\", X.shape)\n",
        "print(\"Target Shape:\", y.shape)\n",
        "print(\"Remaining Features:\", X.columns.tolist())"
      ],
      "metadata": {
        "colab": {
          "base_uri": "https://localhost:8080/"
        },
        "id": "X7pd9rzGsnPE",
        "outputId": "5f10e7cb-dcad-4f3c-ba1c-3c4c5cd5353e"
      },
      "execution_count": 48,
      "outputs": [
        {
          "output_type": "stream",
          "name": "stdout",
          "text": [
            "Features Shape: (1463, 66)\n",
            "Target Shape: (1463,)\n",
            "Remaining Features: ['EntryPoint', 'FromBegin', 'FromEnd', 'EntryHash10', 'Characteristics', 'IsDLL', 'LARGE_ADDRESS_AWARE', 'OS_Version', 'Subsystem', 'Machine', 'SizeOfCode', 'InitializedData', 'SizeOfHeapReserve', 'SizeOfStackReserve', 'NumberOfResources', 'NumberOfSections', 'NumberOfImportedFunctions', 'Imphash', 'SectionName_0', 'SectionVA_0', 'SectionVSIZE_0', 'SectionRawSize_0', 'SectionCharacteristics_0', 'SectionName_1', 'SectionVA_1', 'SectionVSIZE_1', 'SectionRawSize_1', 'SectionCharacteristics_1', 'SectionName_2', 'SectionVA_2', 'SectionVSIZE_2', 'SectionRawSize_2', 'SectionCharacteristics_2', 'SectionName_3', 'SectionVA_3', 'SectionVSIZE_3', 'SectionRawSize_3', 'SectionCharacteristics_3', 'SectionName_4', 'SectionVA_4', 'SectionVSIZE_4', 'SectionRawSize_4', 'SectionCharacteristics_4', 'Checksum', 'CalculatedChecksum', 'Timestamp', 'SectionVA_5', 'SectionVSIZE_5', 'SectionRawSize_5', 'SectionCharacteristics_5', 'SectionVA_6', 'SectionVSIZE_6', 'SectionRawSize_6', 'SectionCharacteristics_6', 'SectionVA_7', 'SectionVSIZE_7', 'SectionRawSize_7', 'SectionCharacteristics_7', 'SectionVA_8', 'SectionVSIZE_8', 'SectionRawSize_8', 'SectionCharacteristics_8', 'SectionVA_9', 'SectionVSIZE_9', 'SectionRawSize_9', 'SectionCharacteristics_9']\n"
          ]
        }
      ]
    },
    {
      "cell_type": "markdown",
      "source": [
        "# Step 14: Split data"
      ],
      "metadata": {
        "id": "s4QvTrKmsq7B"
      }
    },
    {
      "cell_type": "code",
      "source": [
        "# Step 14: Split data\n",
        "X_train, X_test, y_train, y_test = train_test_split(X, y, test_size=0.3,\n",
        "                                                    random_state=42, stratify=y)\n",
        "print(\"Training Set Shape:\", X_train.shape)\n",
        "print(\"Test Set Shape:\", X_test.shape)"
      ],
      "metadata": {
        "colab": {
          "base_uri": "https://localhost:8080/"
        },
        "id": "wTp07VGcsvmf",
        "outputId": "960714a5-6d46-4543-f469-3124d12b938f"
      },
      "execution_count": 49,
      "outputs": [
        {
          "output_type": "stream",
          "name": "stdout",
          "text": [
            "Training Set Shape: (1024, 66)\n",
            "Test Set Shape: (439, 66)\n"
          ]
        }
      ]
    },
    {
      "cell_type": "markdown",
      "source": [
        "# Step 15: Filter classes in y_train with fewer than 2 samples"
      ],
      "metadata": {
        "id": "h6tqLZWWs0Ze"
      }
    },
    {
      "cell_type": "code",
      "source": [
        "\n",
        "# Step 15: Filter classes in y_train with fewer than 2 samples\n",
        "train_class_counts = pd.Series(le_family.inverse_transform(y_train)).value_counts()\n",
        "valid_train_classes = train_class_counts[train_class_counts >= 2].index\n",
        "train_mask = pd.Series(le_family.inverse_transform(y_train), index=X_train.index).isin(valid_train_classes)\n",
        "X_train = X_train[train_mask].reset_index(drop=True)\n",
        "y_train = y_train[train_mask].reset_index(drop=True)\n",
        "\n",
        "# Get the class names (strings) and re-encode y_train\n",
        "train_class_names = le_family.inverse_transform(np.unique(y_train))  # Convert encoded labels to string names\n",
        "le_family_train = LabelEncoder()\n",
        "y_train_encoded = le_family_train.fit_transform(le_family.inverse_transform(y_train))  # Re-encode using the string names\n",
        "# Map the encoded labels back to strings for printing\n",
        "train_class_distribution = pd.Series(y_train_encoded).value_counts().sort_index()\n",
        "train_class_distribution.index = train_class_names[train_class_distribution.index]\n",
        "print(\"Training Classes after filtering (min 2 samples):\", train_class_names)\n",
        "print(\"Training Class Distribution after filtering:\\n\", train_class_distribution)\n",
        "\n",
        "# Adjust y_test to match the filtered training classes\n",
        "test_mask = pd.Series(le_family.inverse_transform(y_test), index=X_test.index).isin(train_class_names)\n",
        "X_test = X_test[test_mask].reset_index(drop=True)\n",
        "y_test = y_test[test_mask].reset_index(drop=True)\n",
        "# Re-encode y_test to match y_train's encoding\n",
        "y_test_encoded = le_family_train.transform(le_family.inverse_transform(y_test))\n",
        "# Map the encoded labels back to strings for printing\n",
        "test_class_distribution = pd.Series(y_test_encoded).value_counts().sort_index()\n",
        "test_class_distribution.index = train_class_names[test_class_distribution.index]\n",
        "print(\"Test Classes after filtering:\", train_class_names)\n",
        "print(\"Test Class Distribution after filtering:\\n\", test_class_distribution)\n",
        "print(\"Adjusted Training Set Shape:\", X_train.shape)\n",
        "print(\"Adjusted Test Set Shape:\", X_test.shape)"
      ],
      "metadata": {
        "colab": {
          "base_uri": "https://localhost:8080/"
        },
        "id": "i8nBKDfas735",
        "outputId": "b85eed18-4119-4d7d-cd7e-9eaa9cd97deb"
      },
      "execution_count": 50,
      "outputs": [
        {
          "output_type": "stream",
          "name": "stdout",
          "text": [
            "Training Classes after filtering (min 2 samples): [  2   3  10  14  32  76  87 140 150 154]\n",
            "Training Class Distribution after filtering:\n",
            " 2      155\n",
            "3      117\n",
            "10      50\n",
            "14      36\n",
            "32      64\n",
            "76     104\n",
            "87     267\n",
            "140     59\n",
            "150    136\n",
            "154     36\n",
            "Name: count, dtype: int64\n",
            "Test Classes after filtering: [  2   3  10  14  32  76  87 140 150 154]\n",
            "Test Class Distribution after filtering:\n",
            " 2       67\n",
            "3       51\n",
            "10      21\n",
            "14      16\n",
            "32      27\n",
            "76      44\n",
            "87     114\n",
            "140     25\n",
            "150     58\n",
            "154     16\n",
            "Name: count, dtype: int64\n",
            "Adjusted Training Set Shape: (1024, 66)\n",
            "Adjusted Test Set Shape: (439, 66)\n"
          ]
        }
      ]
    },
    {
      "cell_type": "markdown",
      "source": [
        "# Step 16: Apply SMOTE to balance classes\n"
      ],
      "metadata": {
        "id": "dffE_bzos_Gd"
      }
    },
    {
      "cell_type": "code",
      "source": [
        "# Step 16: Apply SMOTE to balance classes\n",
        "smote = SMOTE(random_state=42, k_neighbors=1)\n",
        "X_train_balanced, y_train_balanced = smote.fit_resample(X_train, y_train_encoded)\n",
        "# Map the encoded labels back to strings for printing\n",
        "balanced_class_distribution = pd.Series(y_train_balanced).value_counts().sort_index()\n",
        "balanced_class_distribution.index = train_class_names[balanced_class_distribution.index]\n",
        "print(\"Balanced Training Set Shape:\", X_train_balanced.shape)\n",
        "print(\"Balanced Class Distribution:\\n\", balanced_class_distribution)\n",
        "\n",
        "# Step 17: Train Random Forest with optimized parameters\n",
        "rf_model = RandomForestClassifier(n_estimators=200, max_depth=20, random_state=42,\n",
        "                                  class_weight='balanced', n_jobs=-1)\n",
        "rf_model.fit(X_train_balanced, y_train_balanced)\n",
        "y_pred = rf_model.predict(X_test)"
      ],
      "metadata": {
        "colab": {
          "base_uri": "https://localhost:8080/"
        },
        "id": "IViD64UQtBj9",
        "outputId": "85b2d167-efba-4663-b897-37c02bf1a6e6"
      },
      "execution_count": 51,
      "outputs": [
        {
          "output_type": "stream",
          "name": "stdout",
          "text": [
            "Balanced Training Set Shape: (2670, 66)\n",
            "Balanced Class Distribution:\n",
            " 2      267\n",
            "3      267\n",
            "10     267\n",
            "14     267\n",
            "32     267\n",
            "76     267\n",
            "87     267\n",
            "140    267\n",
            "150    267\n",
            "154    267\n",
            "Name: count, dtype: int64\n"
          ]
        }
      ]
    },
    {
      "cell_type": "markdown",
      "source": [
        "# Step 18: Evaluate model"
      ],
      "metadata": {
        "id": "Za6kHccHtENP"
      }
    },
    {
      "cell_type": "code",
      "source": [
        "# Step 18: Evaluate model\n",
        "accuracy = accuracy_score(y_test_encoded, y_pred)\n",
        "precision = precision_score(y_test_encoded, y_pred, average='weighted', zero_division=0)\n",
        "recall = recall_score(y_test_encoded, y_pred, average='weighted', zero_division=0)\n",
        "f1 = f1_score(y_test_encoded, y_pred, average='weighted', zero_division=0)\n",
        "print(f\"Accuracy: {accuracy:.4f}\")\n",
        "print(f\"Precision: {precision:.4f}\")\n",
        "print(f\"Recall: {recall:.4f}\")\n",
        "print(f\"F1-Score: {f1:.4f}\")"
      ],
      "metadata": {
        "colab": {
          "base_uri": "https://localhost:8080/"
        },
        "id": "vo8q46f_tHB8",
        "outputId": "66416b69-be0a-4e53-a123-b4855827318f"
      },
      "execution_count": 52,
      "outputs": [
        {
          "output_type": "stream",
          "name": "stdout",
          "text": [
            "Accuracy: 0.7016\n",
            "Precision: 0.7036\n",
            "Recall: 0.7016\n",
            "F1-Score: 0.7004\n"
          ]
        }
      ]
    },
    {
      "cell_type": "markdown",
      "source": [
        "# Step 19: Fix class names for human-readable reporting"
      ],
      "metadata": {
        "id": "vD9qAKqdtI_L"
      }
    },
    {
      "cell_type": "code",
      "source": [
        "# Step 19: Fix class names for human-readable reporting\n",
        "target_names_human = le_family.inverse_transform(sorted(np.unique(y_test_encoded)))\n",
        "target_names_human = [str(name) for name in target_names_human]  # Ensure strings\n",
        "\n",
        "print(\"\\n📊 Per-Class Metrics:\")\n",
        "print(classification_report(\n",
        "    y_test_encoded,\n",
        "    y_pred,\n",
        "    target_names=target_names_human,\n",
        "    zero_division=0\n",
        "))\n"
      ],
      "metadata": {
        "colab": {
          "base_uri": "https://localhost:8080/"
        },
        "id": "OZfalpbKtL2X",
        "outputId": "928d22f2-0152-495a-9a8d-f454e097711b"
      },
      "execution_count": 53,
      "outputs": [
        {
          "output_type": "stream",
          "name": "stdout",
          "text": [
            "\n",
            "📊 Per-Class Metrics:\n",
            "              precision    recall  f1-score   support\n",
            "\n",
            "           2       0.86      0.88      0.87        67\n",
            "           3       0.64      0.75      0.69        51\n",
            "          10       0.33      0.29      0.31        21\n",
            "          14       0.59      0.62      0.61        16\n",
            "          32       0.96      0.96      0.96        27\n",
            "          76       0.43      0.52      0.47        44\n",
            "          87       0.82      0.79      0.80       114\n",
            "         140       0.67      0.48      0.56        25\n",
            "         150       0.59      0.52      0.55        58\n",
            "         154       0.82      0.88      0.85        16\n",
            "\n",
            "    accuracy                           0.70       439\n",
            "   macro avg       0.67      0.67      0.67       439\n",
            "weighted avg       0.70      0.70      0.70       439\n",
            "\n"
          ]
        }
      ]
    },
    {
      "cell_type": "markdown",
      "source": [
        "# Step 20: Plot confusion matrix"
      ],
      "metadata": {
        "id": "XzQ-AM5FtOcs"
      }
    },
    {
      "cell_type": "code",
      "source": [
        "cm = confusion_matrix(y_test_encoded, y_pred)\n",
        "plt.figure(figsize=(10, 8))\n",
        "sns.heatmap(cm, annot=True, fmt='d', cmap='Blues',\n",
        "            xticklabels=target_names_human,\n",
        "            yticklabels=target_names_human)\n",
        "plt.title('🧠 Confusion Matrix')\n",
        "plt.xlabel('Predicted')\n",
        "plt.ylabel('True')\n",
        "plt.xticks(rotation=45, ha='right')\n",
        "plt.yticks(rotation=0)\n",
        "plt.tight_layout()\n",
        "plt.show()"
      ],
      "metadata": {
        "colab": {
          "base_uri": "https://localhost:8080/",
          "height": 879
        },
        "id": "-y3L7LAztQ-i",
        "outputId": "ca2a5c03-75c1-4d47-919c-06936ecfd2e9"
      },
      "execution_count": 54,
      "outputs": [
        {
          "output_type": "stream",
          "name": "stderr",
          "text": [
            "<ipython-input-54-94faee5dab9a>:11: UserWarning: Glyph 129504 (\\N{BRAIN}) missing from font(s) DejaVu Sans.\n",
            "  plt.tight_layout()\n",
            "/usr/local/lib/python3.11/dist-packages/IPython/core/pylabtools.py:151: UserWarning: Glyph 129504 (\\N{BRAIN}) missing from font(s) DejaVu Sans.\n",
            "  fig.canvas.print_figure(bytes_io, **kw)\n"
          ]
        },
        {
          "output_type": "display_data",
          "data": {
            "text/plain": [
              "<Figure size 1000x800 with 2 Axes>"
            ],
            "image/png": "[encoded data removed]"
          },
          "metadata": {}
        }
      ]
    },
    {
      "cell_type": "markdown",
      "source": [
        "# Step 21: Feature importance"
      ],
      "metadata": {
        "id": "9qNQvORptUtW"
      }
    },
    {
      "cell_type": "code",
      "source": [
        "# Step 21: Feature importance\n",
        "feature_importance = pd.DataFrame({\n",
        "    'Feature': X.columns,\n",
        "    'Importance': rf_model.feature_importances_\n",
        "}).sort_values(by='Importance', ascending=False)\n",
        "\n",
        "plt.figure(figsize=(10, 6))\n",
        "sns.barplot(x='Importance', y='Feature', data=feature_importance.head(10))\n",
        "plt.title('🔍 Top 10 Feature Importances')\n",
        "plt.tight_layout()\n",
        "plt.show()\n",
        "\n",
        "print(\"Top 10 Features:\\n\", feature_importance.head(10))"
      ],
      "metadata": {
        "colab": {
          "base_uri": "https://localhost:8080/",
          "height": 897
        },
        "id": "TD8nMaSWtXWT",
        "outputId": "88dcec53-8a1b-48cc-dcb2-8b0d5a91d43f"
      },
      "execution_count": 55,
      "outputs": [
        {
          "output_type": "stream",
          "name": "stderr",
          "text": [
            "<ipython-input-55-adc01a85e2b4>:10: UserWarning: Glyph 128269 (\\N{LEFT-POINTING MAGNIFYING GLASS}) missing from font(s) DejaVu Sans.\n",
            "  plt.tight_layout()\n",
            "/usr/local/lib/python3.11/dist-packages/IPython/core/pylabtools.py:151: UserWarning: Glyph 128269 (\\N{LEFT-POINTING MAGNIFYING GLASS}) missing from font(s) DejaVu Sans.\n",
            "  fig.canvas.print_figure(bytes_io, **kw)\n"
          ]
        },
        {
          "output_type": "display_data",
          "data": {
            "text/plain": [
              "<Figure size 1000x600 with 1 Axes>"
            ],
            "image/png": "[encoded data removed]"
          },
          "metadata": {}
        },
        {
          "output_type": "stream",
          "name": "stdout",
          "text": [
            "Top 10 Features:\n",
            "                       Feature  Importance\n",
            "11            InitializedData    0.077050\n",
            "2                     FromEnd    0.072554\n",
            "10                 SizeOfCode    0.071709\n",
            "0                  EntryPoint    0.071389\n",
            "1                   FromBegin    0.070200\n",
            "14          NumberOfResources    0.062218\n",
            "4             Characteristics    0.058910\n",
            "7                  OS_Version    0.057812\n",
            "3                 EntryHash10    0.057647\n",
            "16  NumberOfImportedFunctions    0.052006\n"
          ]
        }
      ]
    },
    {
      "cell_type": "markdown",
      "source": [
        "# Step 22: Save model and encoders"
      ],
      "metadata": {
        "id": "NHWEtWNotbNL"
      }
    },
    {
      "cell_type": "code",
      "source": [
        "# Step 22: Save model and encoders\n",
        "joblib.dump(rf_model, 'final_random_forest_malware_model.pkl')\n",
        "joblib.dump(label_encoders, 'label_encoders.pkl')\n",
        "joblib.dump(scaler, 'scaler.pkl')\n",
        "joblib.dump(le_family, 'family_label_encoder.pkl')\n",
        "\n",
        "# Save evaluation results to file\n",
        "with open('final_rf_evaluation_results.txt', 'w') as f:\n",
        "    f.write(f\"Accuracy: {accuracy:.4f}\\n\")\n",
        "    f.write(f\"Precision: {precision:.4f}\\n\")\n",
        "    f.write(f\"Recall: {recall:.4f}\\n\")\n",
        "    f.write(f\"F1-Score: {f1:.4f}\\n\")\n",
        "    f.write(\"\\nClassification Report:\\n\")\n",
        "    f.write(classification_report(\n",
        "        y_test_encoded,\n",
        "        y_pred,\n",
        "        target_names=target_names_human,\n",
        "        zero_division=0\n",
        "    ))\n"
      ],
      "metadata": {
        "id": "04Y3xmPrtjXR"
      },
      "execution_count": 56,
      "outputs": []
    }
  ]
}